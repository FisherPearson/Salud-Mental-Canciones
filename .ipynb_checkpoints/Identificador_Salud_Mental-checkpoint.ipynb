{
 "cells": [
  {
   "cell_type": "markdown",
   "metadata": {},
   "source": [
    "# Paqueterías necesarias"
   ]
  },
  {
   "cell_type": "code",
   "execution_count": 2,
   "metadata": {},
   "outputs": [],
   "source": [
    "import pandas as pd\n",
    "from pandas import json_normalize\n",
    "import requests\n",
    "import json\n",
    "from datetime import datetime\n",
    "from datetime import timezone\n",
    "import re \n",
    "from unidecode import unidecode\n",
    "import nltk\n",
    "from nltk.probability import FreqDist\n",
    "\n",
    "import matplotlib.pyplot as plt\n",
    "import seaborn as sns\n",
    "\n",
    "import import_ipynb\n",
    "import Funciones_Salud_Mental as sm\n",
    "\n",
    "plt.rcParams[\"figure.figsize\"] = (20,15)\n",
    "plt.style.use('seaborn-poster')\n",
    "\n",
    "pd.options.mode.chained_assignment = None "
   ]
  },
  {
   "cell_type": "markdown",
   "metadata": {},
   "source": [
    "<h1><center>INDENTIFICAR DEPRESIÓN/TRISTEZA POR MEDIO DE CANCIONES</center></h1>\n",
    "\n",
    "> __Autor__: David Montaño Castro\n",
    "\n",
    "> __Facultad de Ciencias, UNAM.__\n",
    "\n",
    "> Recuperación y Búsqueda de Información en Textos\n",
    "\n",
    "__LIGAS DE INTERÉS__\n",
    "\n",
    "Métricas Spotify: [Características de las canciones](https://developer.spotify.com/documentation/web-api/reference/#/operations/get-several-audio-features)\n",
    "\n",
    "Stemming idiomas: [SnowballStemming](https://www.nltk.org/_modules/nltk/stem/snowball.html)\n",
    "\n",
    "Llaves musicales y emociones: [Interpretación1](https://wmich.edu/mus-theo/courses/keys.html) e [interpretación2](https://ledgernote.com/blog/interesting/musical-key-characteristics-emotions/)"
   ]
  },
  {
   "cell_type": "markdown",
   "metadata": {},
   "source": [
    "# Conjuntos de datos\n",
    "\n",
    "Si deseas trabajar con tu propio conjunto de datos, es decir, con tu _top 50_ canciones deL último mes, asegurate de checar el documento `API_datos`. Después, carga la infomación en formato CSV.\n",
    "\n",
    "En su defecto, puedes trabajar con los conjuntos de datos predefinidos por el autor. "
   ]
  },
  {
   "cell_type": "markdown",
   "metadata": {},
   "source": [
    "## Tu información"
   ]
  },
  {
   "cell_type": "code",
   "execution_count": 2,
   "metadata": {},
   "outputs": [],
   "source": [
    "#df = pd.read_csv(\"\")"
   ]
  },
  {
   "cell_type": "markdown",
   "metadata": {},
   "source": [
    "## Conjunto de datos por defecto"
   ]
  },
  {
   "cell_type": "code",
   "execution_count": null,
   "metadata": {},
   "outputs": [],
   "source": [
    "test = Obtener_datos(1)\n",
    "test_e = Obtener_datos_estadisticos(1) "
   ]
  },
  {
   "cell_type": "code",
   "execution_count": null,
   "metadata": {},
   "outputs": [],
   "source": [
    "master(test,test_e,stopwords = [\"yeah\",\"woah\",\"ohoh\",\"yeahyeah\",\"eeeeheheh\",\"oooohoooh\",\"woohoo\"])"
   ]
  }
 ],
 "metadata": {
  "kernelspec": {
   "display_name": "Python 3",
   "language": "python",
   "name": "python3"
  },
  "language_info": {
   "codemirror_mode": {
    "name": "ipython",
    "version": 3
   },
   "file_extension": ".py",
   "mimetype": "text/x-python",
   "name": "python",
   "nbconvert_exporter": "python",
   "pygments_lexer": "ipython3",
   "version": "3.8.3"
  }
 },
 "nbformat": 4,
 "nbformat_minor": 4
}
